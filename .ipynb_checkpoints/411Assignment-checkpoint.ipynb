{
 "cells": [
  {
   "cell_type": "code",
   "execution_count": 23,
   "id": "9e3ee6df-ea17-4f73-a32a-55b8a005c6b9",
   "metadata": {},
   "outputs": [],
   "source": [
    "import psycopg2\n",
    "import psycopg2.extras\n",
    "import pandas as pd\n",
    "import seaborn as sns\n",
    "import matplotlib.pyplot as plt"
   ]
  },
  {
   "cell_type": "code",
   "execution_count": 7,
   "id": "fd886623-0179-4536-84ae-e5360a0dee7e",
   "metadata": {
    "scrolled": true
   },
   "outputs": [
    {
     "name": "stdout",
     "output_type": "stream",
     "text": [
      "Collecting Faker\n",
      "  Downloading Faker-19.12.1-py3-none-any.whl.metadata (15 kB)\n",
      "Requirement already satisfied: python-dateutil>=2.4 in d:\\vinternship\\vinternship-basic-problem-solving-on-python-programming-\\env\\lib\\site-packages (from Faker) (2.8.2)\n",
      "Requirement already satisfied: six>=1.5 in d:\\vinternship\\vinternship-basic-problem-solving-on-python-programming-\\env\\lib\\site-packages (from python-dateutil>=2.4->Faker) (1.16.0)\n",
      "Downloading Faker-19.12.1-py3-none-any.whl (1.7 MB)\n",
      "   ---------------------------------------- 0.0/1.7 MB ? eta -:--:--\n",
      "   ---------------------------------------- 0.0/1.7 MB ? eta -:--:--\n",
      "   ---------------------------------------- 0.0/1.7 MB ? eta -:--:--\n",
      "   - -------------------------------------- 0.1/1.7 MB 491.5 kB/s eta 0:00:04\n",
      "   -- ------------------------------------- 0.1/1.7 MB 581.0 kB/s eta 0:00:03\n",
      "   -- ------------------------------------- 0.1/1.7 MB 514.3 kB/s eta 0:00:04\n",
      "   ---- ----------------------------------- 0.2/1.7 MB 787.7 kB/s eta 0:00:02\n",
      "   ---- ----------------------------------- 0.2/1.7 MB 692.4 kB/s eta 0:00:03\n",
      "   ----- ---------------------------------- 0.3/1.7 MB 684.6 kB/s eta 0:00:03\n",
      "   ------- -------------------------------- 0.3/1.7 MB 731.4 kB/s eta 0:00:02\n",
      "   ------- -------------------------------- 0.3/1.7 MB 731.4 kB/s eta 0:00:02\n",
      "   ------- -------------------------------- 0.3/1.7 MB 614.4 kB/s eta 0:00:03\n",
      "   -------- ------------------------------- 0.4/1.7 MB 674.7 kB/s eta 0:00:03\n",
      "   --------- ------------------------------ 0.4/1.7 MB 689.4 kB/s eta 0:00:02\n",
      "   ---------- ----------------------------- 0.5/1.7 MB 671.2 kB/s eta 0:00:02\n",
      "   ----------- ---------------------------- 0.5/1.7 MB 670.0 kB/s eta 0:00:02\n",
      "   ----------- ---------------------------- 0.5/1.7 MB 669.4 kB/s eta 0:00:02\n",
      "   ------------ --------------------------- 0.5/1.7 MB 655.3 kB/s eta 0:00:02\n",
      "   ------------- -------------------------- 0.6/1.7 MB 691.6 kB/s eta 0:00:02\n",
      "   ------------- -------------------------- 0.6/1.7 MB 691.6 kB/s eta 0:00:02\n",
      "   ------------- -------------------------- 0.6/1.7 MB 691.6 kB/s eta 0:00:02\n",
      "   -------------- ------------------------- 0.6/1.7 MB 634.1 kB/s eta 0:00:02\n",
      "   ---------------- ----------------------- 0.7/1.7 MB 675.3 kB/s eta 0:00:02\n",
      "   ---------------- ----------------------- 0.7/1.7 MB 675.3 kB/s eta 0:00:02\n",
      "   ---------------- ----------------------- 0.7/1.7 MB 675.3 kB/s eta 0:00:02\n",
      "   ---------------- ----------------------- 0.7/1.7 MB 675.3 kB/s eta 0:00:02\n",
      "   ---------------- ----------------------- 0.7/1.7 MB 571.2 kB/s eta 0:00:02\n",
      "   ------------------ --------------------- 0.8/1.7 MB 622.6 kB/s eta 0:00:02\n",
      "   ------------------ --------------------- 0.8/1.7 MB 623.5 kB/s eta 0:00:02\n",
      "   ------------------- -------------------- 0.8/1.7 MB 610.3 kB/s eta 0:00:02\n",
      "   -------------------- ------------------- 0.9/1.7 MB 633.6 kB/s eta 0:00:02\n",
      "   --------------------- ------------------ 1.0/1.7 MB 641.3 kB/s eta 0:00:02\n",
      "   --------------------- ------------------ 1.0/1.7 MB 641.3 kB/s eta 0:00:02\n",
      "   ----------------------- ---------------- 1.0/1.7 MB 661.9 kB/s eta 0:00:02\n",
      "   ------------------------ --------------- 1.1/1.7 MB 668.4 kB/s eta 0:00:02\n",
      "   ------------------------- -------------- 1.1/1.7 MB 661.6 kB/s eta 0:00:01\n",
      "   -------------------------- ------------- 1.2/1.7 MB 685.5 kB/s eta 0:00:01\n",
      "   ---------------------------- ----------- 1.2/1.7 MB 715.5 kB/s eta 0:00:01\n",
      "   ----------------------------- ---------- 1.3/1.7 MB 707.4 kB/s eta 0:00:01\n",
      "   ------------------------------ --------- 1.3/1.7 MB 717.0 kB/s eta 0:00:01\n",
      "   ------------------------------- -------- 1.4/1.7 MB 727.1 kB/s eta 0:00:01\n",
      "   ------------------------------- -------- 1.4/1.7 MB 727.1 kB/s eta 0:00:01\n",
      "   ---------------------------------- ----- 1.5/1.7 MB 754.1 kB/s eta 0:00:01\n",
      "   ---------------------------------- ----- 1.5/1.7 MB 754.1 kB/s eta 0:00:01\n",
      "   ----------------------------------- ---- 1.5/1.7 MB 739.2 kB/s eta 0:00:01\n",
      "   ------------------------------------- -- 1.6/1.7 MB 756.6 kB/s eta 0:00:01\n",
      "   -------------------------------------- - 1.7/1.7 MB 764.7 kB/s eta 0:00:01\n",
      "   ---------------------------------------  1.7/1.7 MB 775.3 kB/s eta 0:00:01\n",
      "   ---------------------------------------- 1.7/1.7 MB 772.4 kB/s eta 0:00:00\n",
      "Installing collected packages: Faker\n",
      "Successfully installed Faker-19.12.1\n",
      "Note: you may need to restart the kernel to use updated packages.\n"
     ]
    }
   ],
   "source": [
    "pip install Faker"
   ]
  },
  {
   "cell_type": "code",
   "execution_count": 16,
   "id": "66492bfe-50f2-4ab5-aba9-741020ce7d30",
   "metadata": {},
   "outputs": [],
   "source": [
    "#creating a class so we can use objects\n",
    "class PostgresConnection(object):\n",
    "    #right after calling this class __init__() function will execute first\n",
    "    def __init__(self):\n",
    "        self.connection = psycopg2.connect(database = \"mobile telecomunication\",\n",
    "                                           user = \"postgres\",\n",
    "                                           password = \"admin\",\n",
    "                                           host = \"127.0.0.1\",\n",
    "                                           port = \"5432\")\n",
    "        print(\"\\nConnected!\")\n",
    "    #getConnection() function will call __init__() and connect\n",
    "    def getConnection(self):\n",
    "            print(\"Connection to DB established\")\n",
    "            return self.connection"
   ]
  },
  {
   "cell_type": "code",
   "execution_count": 17,
   "id": "5756d523-5c72-4efc-a47d-253f71a88878",
   "metadata": {},
   "outputs": [
    {
     "name": "stdout",
     "output_type": "stream",
     "text": [
      "\n",
      "Connected!\n",
      "Connection to DB established\n"
     ]
    }
   ],
   "source": [
    "#con object to initiate the connection\n",
    "conn = PostgresConnection().getConnection()"
   ]
  },
  {
   "cell_type": "code",
   "execution_count": 14,
   "id": "f7ff5910-4b25-4864-ab0d-2a5a03b32a9b",
   "metadata": {},
   "outputs": [],
   "source": [
    "import psycopg2\n",
    "from faker import Faker\n",
    "import random\n",
    "from datetime import datetime, timedelta\n",
    "\n",
    "fake = Faker()\n",
    "\n",
    "cursor = conn.cursor()\n",
    "\n",
    "# Get a list of all mobile numbers from Users table\n",
    "cursor.execute(\"SELECT MobileNumber FROM Users\")\n",
    "mobile_numbers = [result[0] for result in cursor.fetchall()]\n",
    "\n",
    "\n",
    "# Generate and insert call data\n",
    "start_date = datetime(2018, 1, 1)\n",
    "end_date = datetime(2022, 12, 31)\n",
    "\n",
    "for mobile_number in mobile_numbers:\n",
    "    current_date = start_date\n",
    "\n",
    "    while current_date <= end_date:\n",
    "        for _ in range(20):  # 20 calls per user per day\n",
    "            receiver_number = random.choice(mobile_numbers)\n",
    "            call_datetime = current_date + timedelta(seconds=random.randint(0, 86399))  # Random time of the day\n",
    "            day_of_week = call_datetime.strftime(\"%A\")\n",
    "            week_of_month = (call_datetime.day - 1) // 7 + 1\n",
    "            quarter_of_month = (call_datetime.month - 1) // 3 + 1\n",
    "            month = call_datetime.month\n",
    "            year = call_datetime.year\n",
    "            quarter_of_year = f\"Q{((call_datetime.month - 1) // 3) + 1}\"\n",
    "            duration = random.randint(30, 600)  # Random duration between 30 seconds and 10 minutes\n",
    "            cost = round(random.uniform(0.1, 10.0), 2)  # Random cost between 0.1 and 10.0\n",
    "\n",
    "            # Get OperatorID based on the operator's name\n",
    "            operator_name = random.choice([\"Grameenphone\", \"Robi\", \"Banglalink\"])\n",
    "            cursor.execute(\"SELECT OperatorID FROM Operators WHERE OperatorName = %s\", (operator_name,))\n",
    "            operator_id = cursor.fetchone()[0]\n",
    "\n",
    "            sql = \"\"\"INSERT INTO CallDetails (CallerMobileNumber, ReceiverMobileNumber, CallDateTime, \n",
    "                     DayOfWeek, WeekOfMonth, QuarterOfMonth, Month, Year, QuarterOfYear, Duration, Cost, OperatorID) \n",
    "                     VALUES (%s, %s, %s, %s, %s, %s, %s, %s, %s, %s, %s, %s)\"\"\"\n",
    "\n",
    "            values = (mobile_number, receiver_number, call_datetime, day_of_week, week_of_month, \n",
    "                      quarter_of_month, month, year, quarter_of_year, duration, cost, operator_id)\n",
    "\n",
    "            cursor.execute(sql, values)\n",
    "\n",
    "        current_date += timedelta(days=1)\n",
    "\n",
    "# Commit the changes\n",
    "conn.commit()\n",
    "\n",
    "# Close the connection\n",
    "conn.close()"
   ]
  },
  {
   "cell_type": "code",
   "execution_count": 20,
   "id": "d68b70b0-dbd4-44eb-af18-73292d8c645c",
   "metadata": {},
   "outputs": [
    {
     "data": {
      "text/plain": [
       "3"
      ]
     },
     "execution_count": 20,
     "metadata": {},
     "output_type": "execute_result"
    }
   ],
   "source": [
    "2011790 %6 +1"
   ]
  },
  {
   "cell_type": "markdown",
   "id": "37849b9c-fb1b-4f61-88a1-ff6833dca25d",
   "metadata": {},
   "source": [
    "# 3.\toperator and time dimensional call pattern analytics"
   ]
  },
  {
   "cell_type": "markdown",
   "id": "bb2b3125-9368-49bf-a5f2-22aaa488c987",
   "metadata": {},
   "source": [
    "## Average Duration of Calls by Operator and Month and Year"
   ]
  },
  {
   "cell_type": "code",
   "execution_count": 34,
   "id": "22fda6ae-189c-4fad-8060-e1602cbc9a1b",
   "metadata": {},
   "outputs": [
    {
     "name": "stdout",
     "output_type": "stream",
     "text": [
      "\n",
      "Connected!\n",
      "Connection to DB established\n"
     ]
    },
    {
     "data": {
      "text/html": [
       "<div>\n",
       "<style scoped>\n",
       "    .dataframe tbody tr th:only-of-type {\n",
       "        vertical-align: middle;\n",
       "    }\n",
       "\n",
       "    .dataframe tbody tr th {\n",
       "        vertical-align: top;\n",
       "    }\n",
       "\n",
       "    .dataframe thead th {\n",
       "        text-align: right;\n",
       "    }\n",
       "</style>\n",
       "<table border=\"1\" class=\"dataframe\">\n",
       "  <thead>\n",
       "    <tr style=\"text-align: right;\">\n",
       "      <th></th>\n",
       "      <th>Operator_Name</th>\n",
       "      <th>Year</th>\n",
       "      <th>Month</th>\n",
       "      <th>AVG Duration</th>\n",
       "    </tr>\n",
       "  </thead>\n",
       "  <tbody>\n",
       "    <tr>\n",
       "      <th>1</th>\n",
       "      <td>Robi</td>\n",
       "      <td>2018.0</td>\n",
       "      <td>12.0</td>\n",
       "      <td>315.5869140625000000</td>\n",
       "    </tr>\n",
       "    <tr>\n",
       "      <th>3</th>\n",
       "      <td>Robi</td>\n",
       "      <td>2019.0</td>\n",
       "      <td>1.0</td>\n",
       "      <td>318.8830097087378641</td>\n",
       "    </tr>\n",
       "    <tr>\n",
       "      <th>4</th>\n",
       "      <td>Robi</td>\n",
       "      <td>2019.0</td>\n",
       "      <td>2.0</td>\n",
       "      <td>312.9634211941904250</td>\n",
       "    </tr>\n",
       "    <tr>\n",
       "      <th>5</th>\n",
       "      <td>Robi</td>\n",
       "      <td>2019.0</td>\n",
       "      <td>3.0</td>\n",
       "      <td>315.2632575757575758</td>\n",
       "    </tr>\n",
       "    <tr>\n",
       "      <th>6</th>\n",
       "      <td>Robi</td>\n",
       "      <td>2019.0</td>\n",
       "      <td>4.0</td>\n",
       "      <td>315.2498760535448686</td>\n",
       "    </tr>\n",
       "    <tr>\n",
       "      <th>...</th>\n",
       "      <td>...</td>\n",
       "      <td>...</td>\n",
       "      <td>...</td>\n",
       "      <td>...</td>\n",
       "    </tr>\n",
       "    <tr>\n",
       "      <th>180792</th>\n",
       "      <td>Grameenphone</td>\n",
       "      <td>2019.0</td>\n",
       "      <td>2.0</td>\n",
       "      <td>30.0000000000000000</td>\n",
       "    </tr>\n",
       "    <tr>\n",
       "      <th>180793</th>\n",
       "      <td>Grameenphone</td>\n",
       "      <td>2018.0</td>\n",
       "      <td>2.0</td>\n",
       "      <td>30.0000000000000000</td>\n",
       "    </tr>\n",
       "    <tr>\n",
       "      <th>180794</th>\n",
       "      <td>Banglalink</td>\n",
       "      <td>2022.0</td>\n",
       "      <td>2.0</td>\n",
       "      <td>30.0000000000000000</td>\n",
       "    </tr>\n",
       "    <tr>\n",
       "      <th>180795</th>\n",
       "      <td>Banglalink</td>\n",
       "      <td>2021.0</td>\n",
       "      <td>2.0</td>\n",
       "      <td>30.0000000000000000</td>\n",
       "    </tr>\n",
       "    <tr>\n",
       "      <th>180796</th>\n",
       "      <td>Banglalink</td>\n",
       "      <td>2020.0</td>\n",
       "      <td>2.0</td>\n",
       "      <td>30.0000000000000000</td>\n",
       "    </tr>\n",
       "  </tbody>\n",
       "</table>\n",
       "<p>101911 rows × 4 columns</p>\n",
       "</div>"
      ],
      "text/plain": [
       "       Operator_Name    Year  Month          AVG Duration\n",
       "1               Robi  2018.0   12.0  315.5869140625000000\n",
       "3               Robi  2019.0    1.0  318.8830097087378641\n",
       "4               Robi  2019.0    2.0  312.9634211941904250\n",
       "5               Robi  2019.0    3.0  315.2632575757575758\n",
       "6               Robi  2019.0    4.0  315.2498760535448686\n",
       "...              ...     ...    ...                   ...\n",
       "180792  Grameenphone  2019.0    2.0   30.0000000000000000\n",
       "180793  Grameenphone  2018.0    2.0   30.0000000000000000\n",
       "180794    Banglalink  2022.0    2.0   30.0000000000000000\n",
       "180795    Banglalink  2021.0    2.0   30.0000000000000000\n",
       "180796    Banglalink  2020.0    2.0   30.0000000000000000\n",
       "\n",
       "[101911 rows x 4 columns]"
      ]
     },
     "execution_count": 34,
     "metadata": {},
     "output_type": "execute_result"
    }
   ],
   "source": [
    "con = PostgresConnection().getConnection()\n",
    "cur = con.cursor()\n",
    "select_stmt = \"\"\"  \n",
    "SELECT c.operatorname, u.year,u.month, AVG(u.duration)\n",
    "FROM public.calldetails u\n",
    "JOIN public.operators c on c.operatorid = u.operatorid\n",
    "GROUP BY CUBE(c.operatorname,u.month,u.year, u.duration)\n",
    "order by u.duration DESC\n",
    "\n",
    "\"\"\"\n",
    "cur.execute(select_stmt)\n",
    "records = cur.fetchall()\n",
    "df = pd.DataFrame(records, columns = ['Operator_Name','Year', 'Month', 'AVG Duration'])\n",
    "df=df.dropna()\n",
    "df"
   ]
  },
  {
   "cell_type": "code",
   "execution_count": 40,
   "id": "e31f9054-77ad-4fdc-bca5-01cc2af92a0f",
   "metadata": {},
   "outputs": [
    {
     "data": {
      "text/plain": [
       "Text(0, 0.5, 'Average Duration')"
      ]
     },
     "execution_count": 40,
     "metadata": {},
     "output_type": "execute_result"
    },
    {
     "data": {
      "image/png": "[encoded data removed]",
      "text/plain": [
       "<Figure size 1000x500 with 1 Axes>"
      ]
     },
     "metadata": {},
     "output_type": "display_data"
    }
   ],
   "source": [
    "df = df[0:50]\n",
    "plt.figure(figsize=[10,5])\n",
    "sns.barplot(x=df['Month'], y= df['AVG Duration'], hue = df['Year'], legend =True, palette='dark:steelblue')\n",
    "plt.xlabel(\"Month\")\n",
    "plt.ylabel(\"Average Duration\")"
   ]
  },
  {
   "cell_type": "markdown",
   "id": "088257bb-e5fd-4629-9be0-a04b23832b23",
   "metadata": {},
   "source": [
    "# Average Cost of Calls by Operator and year"
   ]
  },
  {
   "cell_type": "code",
   "execution_count": 50,
   "id": "1e1d8868-31fd-4b51-a86b-deb31e9af3a0",
   "metadata": {},
   "outputs": [
    {
     "name": "stdout",
     "output_type": "stream",
     "text": [
      "\n",
      "Connected!\n",
      "Connection to DB established\n"
     ]
    },
    {
     "data": {
      "text/html": [
       "<div>\n",
       "<style scoped>\n",
       "    .dataframe tbody tr th:only-of-type {\n",
       "        vertical-align: middle;\n",
       "    }\n",
       "\n",
       "    .dataframe tbody tr th {\n",
       "        vertical-align: top;\n",
       "    }\n",
       "\n",
       "    .dataframe thead th {\n",
       "        text-align: right;\n",
       "    }\n",
       "</style>\n",
       "<table border=\"1\" class=\"dataframe\">\n",
       "  <thead>\n",
       "    <tr style=\"text-align: right;\">\n",
       "      <th></th>\n",
       "      <th>Operator_Name</th>\n",
       "      <th>Years</th>\n",
       "      <th>Months</th>\n",
       "      <th>AVG COST</th>\n",
       "    </tr>\n",
       "  </thead>\n",
       "  <tbody>\n",
       "    <tr>\n",
       "      <th>2</th>\n",
       "      <td>Banglalink</td>\n",
       "      <td>2019.0</td>\n",
       "      <td>5.0</td>\n",
       "      <td>10.0000000000000000</td>\n",
       "    </tr>\n",
       "    <tr>\n",
       "      <th>3</th>\n",
       "      <td>Robi</td>\n",
       "      <td>2019.0</td>\n",
       "      <td>6.0</td>\n",
       "      <td>10.0000000000000000</td>\n",
       "    </tr>\n",
       "    <tr>\n",
       "      <th>4</th>\n",
       "      <td>Robi</td>\n",
       "      <td>2019.0</td>\n",
       "      <td>4.0</td>\n",
       "      <td>9.9700000000000000</td>\n",
       "    </tr>\n",
       "    <tr>\n",
       "      <th>6</th>\n",
       "      <td>Grameenphone</td>\n",
       "      <td>2019.0</td>\n",
       "      <td>7.0</td>\n",
       "      <td>9.9700000000000000</td>\n",
       "    </tr>\n",
       "    <tr>\n",
       "      <th>10</th>\n",
       "      <td>Grameenphone</td>\n",
       "      <td>2019.0</td>\n",
       "      <td>1.0</td>\n",
       "      <td>9.9600000000000000</td>\n",
       "    </tr>\n",
       "    <tr>\n",
       "      <th>...</th>\n",
       "      <td>...</td>\n",
       "      <td>...</td>\n",
       "      <td>...</td>\n",
       "      <td>...</td>\n",
       "    </tr>\n",
       "    <tr>\n",
       "      <th>58266</th>\n",
       "      <td>Robi</td>\n",
       "      <td>2019.0</td>\n",
       "      <td>6.0</td>\n",
       "      <td>0.13000000000000000000</td>\n",
       "    </tr>\n",
       "    <tr>\n",
       "      <th>58267</th>\n",
       "      <td>Grameenphone</td>\n",
       "      <td>2019.0</td>\n",
       "      <td>7.0</td>\n",
       "      <td>0.13000000000000000000</td>\n",
       "    </tr>\n",
       "    <tr>\n",
       "      <th>58269</th>\n",
       "      <td>Banglalink</td>\n",
       "      <td>2019.0</td>\n",
       "      <td>3.0</td>\n",
       "      <td>0.12000000000000000000</td>\n",
       "    </tr>\n",
       "    <tr>\n",
       "      <th>58271</th>\n",
       "      <td>Grameenphone</td>\n",
       "      <td>2019.0</td>\n",
       "      <td>11.0</td>\n",
       "      <td>0.11000000000000000000</td>\n",
       "    </tr>\n",
       "    <tr>\n",
       "      <th>58273</th>\n",
       "      <td>Banglalink</td>\n",
       "      <td>2019.0</td>\n",
       "      <td>8.0</td>\n",
       "      <td>0.10000000000000000000</td>\n",
       "    </tr>\n",
       "  </tbody>\n",
       "</table>\n",
       "<p>19985 rows × 4 columns</p>\n",
       "</div>"
      ],
      "text/plain": [
       "      Operator_Name   Years  Months                AVG COST\n",
       "2        Banglalink  2019.0     5.0     10.0000000000000000\n",
       "3              Robi  2019.0     6.0     10.0000000000000000\n",
       "4              Robi  2019.0     4.0      9.9700000000000000\n",
       "6      Grameenphone  2019.0     7.0      9.9700000000000000\n",
       "10     Grameenphone  2019.0     1.0      9.9600000000000000\n",
       "...             ...     ...     ...                     ...\n",
       "58266          Robi  2019.0     6.0  0.13000000000000000000\n",
       "58267  Grameenphone  2019.0     7.0  0.13000000000000000000\n",
       "58269    Banglalink  2019.0     3.0  0.12000000000000000000\n",
       "58271  Grameenphone  2019.0    11.0  0.11000000000000000000\n",
       "58273    Banglalink  2019.0     8.0  0.10000000000000000000\n",
       "\n",
       "[19985 rows x 4 columns]"
      ]
     },
     "execution_count": 50,
     "metadata": {},
     "output_type": "execute_result"
    }
   ],
   "source": [
    "con = PostgresConnection().getConnection()\n",
    "cur = con.cursor()\n",
    "select_stmt = \"\"\"  \n",
    "SELECT c.operatorname,u.year, u.month, AVG(u.cost)\n",
    "FROM public.calldetails u\n",
    "JOIN public.operators c on c.operatorid = u.operatorid\n",
    "WHERE u.Year = '2019'\n",
    "GROUP BY CUBE(c.operatorname,u.year, u.month, u.duration)\n",
    "order by AVG(u.cost) DESC\n",
    "\n",
    "\"\"\"\n",
    "cur.execute(select_stmt)\n",
    "records = cur.fetchall()\n",
    "df = pd.DataFrame(records, columns = ['Operator_Name','Years', 'Months', 'AVG COST'])\n",
    "df=df.dropna()\n",
    "df"
   ]
  },
  {
   "cell_type": "code",
   "execution_count": 52,
   "id": "0c0de432-91ff-4c0e-9da8-cd02f44c4075",
   "metadata": {},
   "outputs": [
    {
     "data": {
      "text/plain": [
       "Text(0, 0.5, 'Average Cost')"
      ]
     },
     "execution_count": 52,
     "metadata": {},
     "output_type": "execute_result"
    },
    {
     "data": {
      "image/png": "[encoded data removed]",
      "text/plain": [
       "<Figure size 1000x500 with 1 Axes>"
      ]
     },
     "metadata": {},
     "output_type": "display_data"
    }
   ],
   "source": [
    "df = df[0:50]\n",
    "plt.figure(figsize=[10,5])\n",
    "sns.lineplot(x=df['Months'], y= df['AVG COST'], hue = df['Years'], legend =True)\n",
    "plt.xlabel(\"Month\")\n",
    "plt.ylabel(\"Average Cost\")"
   ]
  },
  {
   "cell_type": "code",
   "execution_count": null,
   "id": "a649f474-14ec-4327-aafe-428841adfa9c",
   "metadata": {},
   "outputs": [],
   "source": []
  }
 ],
 "metadata": {
  "kernelspec": {
   "display_name": "Python 3 (ipykernel)",
   "language": "python",
   "name": "python3"
  },
  "language_info": {
   "codemirror_mode": {
    "name": "ipython",
    "version": 3
   },
   "file_extension": ".py",
   "mimetype": "text/x-python",
   "name": "python",
   "nbconvert_exporter": "python",
   "pygments_lexer": "ipython3",
   "version": "3.11.5"
  }
 },
 "nbformat": 4,
 "nbformat_minor": 5
}
