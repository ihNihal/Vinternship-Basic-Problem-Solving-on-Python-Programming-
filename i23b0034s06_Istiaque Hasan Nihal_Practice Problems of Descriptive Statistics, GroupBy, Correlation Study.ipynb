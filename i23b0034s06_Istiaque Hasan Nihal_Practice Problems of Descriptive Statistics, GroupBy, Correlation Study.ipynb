{
 "cells": [
  {
   "cell_type": "markdown",
   "id": "1cb6cb80-a509-4584-bee0-9aa2c97f5e74",
   "metadata": {},
   "source": [
    "#### Name: Istiaque Hasan Nihal\n",
    "#### ID: i23b0034s06"
   ]
  },
  {
   "cell_type": "markdown",
   "id": "2d776bcc-2dcc-4fa8-9eb2-4e7d842d9cce",
   "metadata": {},
   "source": [
    "\r\n",
    "Practice problem 4.1\r\n",
    "\r\n",
    "Load all of the dimension table from e-commerce-data.xlsx into the padas dataframe."
   ]
  },
  {
   "cell_type": "code",
   "execution_count": 2,
   "id": "38be4980-d4ce-4188-8b2d-06c8504824e1",
   "metadata": {},
   "outputs": [
    {
     "name": "stdout",
     "output_type": "stream",
     "text": [
      "Collecting openpyxl\n",
      "  Downloading openpyxl-3.1.2-py2.py3-none-any.whl (249 kB)\n",
      "     ------------------------------------ 250.0/250.0 kB 807.2 kB/s eta 0:00:00\n",
      "Collecting et-xmlfile\n",
      "  Downloading et_xmlfile-1.1.0-py3-none-any.whl (4.7 kB)\n",
      "Installing collected packages: et-xmlfile, openpyxl\n",
      "Successfully installed et-xmlfile-1.1.0 openpyxl-3.1.2\n",
      "Note: you may need to restart the kernel to use updated packages.\n"
     ]
    },
    {
     "name": "stderr",
     "output_type": "stream",
     "text": [
      "\n",
      "[notice] A new release of pip available: 22.3.1 -> 23.2.1\n",
      "[notice] To update, run: python.exe -m pip install --upgrade pip\n"
     ]
    }
   ],
   "source": [
    "pip install openpyxl\n"
   ]
  },
  {
   "cell_type": "code",
   "execution_count": 6,
   "id": "985973db-7d56-4223-96d3-7590a03519e7",
   "metadata": {},
   "outputs": [
    {
     "data": {
      "text/html": [
       "<div>\n",
       "<style scoped>\n",
       "    .dataframe tbody tr th:only-of-type {\n",
       "        vertical-align: middle;\n",
       "    }\n",
       "\n",
       "    .dataframe tbody tr th {\n",
       "        vertical-align: top;\n",
       "    }\n",
       "\n",
       "    .dataframe thead th {\n",
       "        text-align: right;\n",
       "    }\n",
       "</style>\n",
       "<table border=\"1\" class=\"dataframe\">\n",
       "  <thead>\n",
       "    <tr style=\"text-align: right;\">\n",
       "      <th></th>\n",
       "      <th>payment_key</th>\n",
       "      <th>coustomer_key</th>\n",
       "      <th>time_key</th>\n",
       "      <th>item_key</th>\n",
       "      <th>store_key</th>\n",
       "      <th>quantity</th>\n",
       "      <th>unit</th>\n",
       "      <th>unit_price</th>\n",
       "      <th>total_price</th>\n",
       "    </tr>\n",
       "  </thead>\n",
       "  <tbody>\n",
       "    <tr>\n",
       "      <th>0</th>\n",
       "      <td>P025</td>\n",
       "      <td>C001495</td>\n",
       "      <td>T08774</td>\n",
       "      <td>I00185</td>\n",
       "      <td>S0038</td>\n",
       "      <td>19</td>\n",
       "      <td>ct</td>\n",
       "      <td>14.00</td>\n",
       "      <td>266.0</td>\n",
       "    </tr>\n",
       "    <tr>\n",
       "      <th>1</th>\n",
       "      <td>P009</td>\n",
       "      <td>C000904</td>\n",
       "      <td>T09092</td>\n",
       "      <td>I00017</td>\n",
       "      <td>S0007</td>\n",
       "      <td>8</td>\n",
       "      <td>cans</td>\n",
       "      <td>6.75</td>\n",
       "      <td>54.0</td>\n",
       "    </tr>\n",
       "    <tr>\n",
       "      <th>2</th>\n",
       "      <td>P019</td>\n",
       "      <td>C001627</td>\n",
       "      <td>T03980</td>\n",
       "      <td>I00235</td>\n",
       "      <td>S0013</td>\n",
       "      <td>1</td>\n",
       "      <td>ct</td>\n",
       "      <td>14.00</td>\n",
       "      <td>14.0</td>\n",
       "    </tr>\n",
       "    <tr>\n",
       "      <th>3</th>\n",
       "      <td>P004</td>\n",
       "      <td>C001606</td>\n",
       "      <td>T00982</td>\n",
       "      <td>I00232</td>\n",
       "      <td>S0038</td>\n",
       "      <td>7</td>\n",
       "      <td>ct</td>\n",
       "      <td>12.00</td>\n",
       "      <td>84.0</td>\n",
       "    </tr>\n",
       "    <tr>\n",
       "      <th>4</th>\n",
       "      <td>P019</td>\n",
       "      <td>C001273</td>\n",
       "      <td>T09057</td>\n",
       "      <td>I00075</td>\n",
       "      <td>S0012</td>\n",
       "      <td>35</td>\n",
       "      <td>cans</td>\n",
       "      <td>15.50</td>\n",
       "      <td>542.5</td>\n",
       "    </tr>\n",
       "    <tr>\n",
       "      <th>...</th>\n",
       "      <td>...</td>\n",
       "      <td>...</td>\n",
       "      <td>...</td>\n",
       "      <td>...</td>\n",
       "      <td>...</td>\n",
       "      <td>...</td>\n",
       "      <td>...</td>\n",
       "      <td>...</td>\n",
       "      <td>...</td>\n",
       "    </tr>\n",
       "    <tr>\n",
       "      <th>9995</th>\n",
       "      <td>P007</td>\n",
       "      <td>C001501</td>\n",
       "      <td>T06807</td>\n",
       "      <td>I00028</td>\n",
       "      <td>S0007</td>\n",
       "      <td>10</td>\n",
       "      <td>cans</td>\n",
       "      <td>6.75</td>\n",
       "      <td>67.5</td>\n",
       "    </tr>\n",
       "    <tr>\n",
       "      <th>9996</th>\n",
       "      <td>P004</td>\n",
       "      <td>C000405</td>\n",
       "      <td>T02560</td>\n",
       "      <td>I00143</td>\n",
       "      <td>S0031</td>\n",
       "      <td>43</td>\n",
       "      <td>ct</td>\n",
       "      <td>16.00</td>\n",
       "      <td>688.0</td>\n",
       "    </tr>\n",
       "    <tr>\n",
       "      <th>9997</th>\n",
       "      <td>P015</td>\n",
       "      <td>C001789</td>\n",
       "      <td>T07589</td>\n",
       "      <td>I00142</td>\n",
       "      <td>S0021</td>\n",
       "      <td>152</td>\n",
       "      <td>ct</td>\n",
       "      <td>12.50</td>\n",
       "      <td>1900.0</td>\n",
       "    </tr>\n",
       "    <tr>\n",
       "      <th>9998</th>\n",
       "      <td>P003</td>\n",
       "      <td>C001500</td>\n",
       "      <td>T00881</td>\n",
       "      <td>I00194</td>\n",
       "      <td>S0037</td>\n",
       "      <td>19</td>\n",
       "      <td>bars</td>\n",
       "      <td>23.00</td>\n",
       "      <td>437.0</td>\n",
       "    </tr>\n",
       "    <tr>\n",
       "      <th>9999</th>\n",
       "      <td>P013</td>\n",
       "      <td>C000035</td>\n",
       "      <td>T02979</td>\n",
       "      <td>I00120</td>\n",
       "      <td>S0041</td>\n",
       "      <td>1</td>\n",
       "      <td>ct</td>\n",
       "      <td>9.00</td>\n",
       "      <td>9.0</td>\n",
       "    </tr>\n",
       "  </tbody>\n",
       "</table>\n",
       "<p>10000 rows × 9 columns</p>\n",
       "</div>"
      ],
      "text/plain": [
       "     payment_key coustomer_key time_key item_key store_key  quantity  unit  \\\n",
       "0           P025       C001495   T08774   I00185     S0038        19    ct   \n",
       "1           P009       C000904   T09092   I00017     S0007         8  cans   \n",
       "2           P019       C001627   T03980   I00235     S0013         1    ct   \n",
       "3           P004       C001606   T00982   I00232     S0038         7    ct   \n",
       "4           P019       C001273   T09057   I00075     S0012        35  cans   \n",
       "...          ...           ...      ...      ...       ...       ...   ...   \n",
       "9995        P007       C001501   T06807   I00028     S0007        10  cans   \n",
       "9996        P004       C000405   T02560   I00143     S0031        43    ct   \n",
       "9997        P015       C001789   T07589   I00142     S0021       152    ct   \n",
       "9998        P003       C001500   T00881   I00194     S0037        19  bars   \n",
       "9999        P013       C000035   T02979   I00120     S0041         1    ct   \n",
       "\n",
       "      unit_price  total_price  \n",
       "0          14.00        266.0  \n",
       "1           6.75         54.0  \n",
       "2          14.00         14.0  \n",
       "3          12.00         84.0  \n",
       "4          15.50        542.5  \n",
       "...          ...          ...  \n",
       "9995        6.75         67.5  \n",
       "9996       16.00        688.0  \n",
       "9997       12.50       1900.0  \n",
       "9998       23.00        437.0  \n",
       "9999        9.00          9.0  \n",
       "\n",
       "[10000 rows x 9 columns]"
      ]
     },
     "execution_count": 6,
     "metadata": {},
     "output_type": "execute_result"
    }
   ],
   "source": [
    "import pandas as pd\n",
    "\n",
    "fact_table = pd.read_excel(r'e-com-sales-out.xlsx', sheet_name='Fact_table', engine='openpyxl')\n",
    "trans_dim = pd.read_excel(r'e-com-sales-out.xlsx', sheet_name='Trans_dim', engine='openpyxl')\n",
    "item_dim = pd.read_excel(r'e-com-sales-out.xlsx', sheet_name='Item_dim', engine='openpyxl')\n",
    "customer_dim = pd.read_excel(r'e-com-sales-out.xlsx', sheet_name='Customer_dim', engine='openpyxl')\n",
    "time_dim = pd.read_excel(r'e-com-sales-out.xlsx', sheet_name='Time_dim', engine='openpyxl')\n",
    "store_dim = pd.read_excel(r'e-com-sales-out.xlsx', sheet_name='Store_dim', engine='openpyxl')\n",
    "\n",
    "\n",
    "\n",
    "\n",
    "\n",
    "\n",
    " \n",
    "fact_table"
   ]
  },
  {
   "cell_type": "markdown",
   "id": "18ba8191-1f0f-47c7-a308-5c148af697a8",
   "metadata": {},
   "source": [
    "\r\n",
    "Practice problem 4.2\r\n",
    "\r\n",
    "Calculate the mean value of the total price of the fact table."
   ]
  },
  {
   "cell_type": "code",
   "execution_count": 6,
   "id": "dc64addd-fd46-4f49-96cf-b39c95c40561",
   "metadata": {},
   "outputs": [
    {
     "name": "stdout",
     "output_type": "stream",
     "text": [
      "total_price    1145.033275\n",
      "dtype: float64\n"
     ]
    }
   ],
   "source": [
    "#Mean value of total price\n",
    "total_price_mean = fact_table[['total_price']].mean()\n",
    "\n",
    "print(total_price_mean)"
   ]
  },
  {
   "cell_type": "markdown",
   "id": "0bb933c3-2500-400c-9252-00228b358a4a",
   "metadata": {},
   "source": [
    "Practice problem 4.3\r\n",
    "\r\n",
    "Calculate the standard deviation of all columns of the fact table."
   ]
  },
  {
   "cell_type": "code",
   "execution_count": 17,
   "id": "67236e08-a79c-4424-9356-e7bff9d52b99",
   "metadata": {},
   "outputs": [
    {
     "data": {
      "text/plain": [
       "quantity        233.167596\n",
       "unit_price        8.638702\n",
       "total_price    4120.906268\n",
       "dtype: float64"
      ]
     },
     "execution_count": 17,
     "metadata": {},
     "output_type": "execute_result"
    }
   ],
   "source": [
    "#Standard deviation\n",
    "val = fact_table[['quantity','unit_price', 'total_price']].std()\n",
    "\n",
    "val"
   ]
  },
  {
   "cell_type": "markdown",
   "id": "6cca4a01-2ad5-4f48-bf95-cc95b709fee7",
   "metadata": {},
   "source": [
    "Practice problem 4.4\r\n",
    "\r\n",
    "Find the most common unit in the fact table."
   ]
  },
  {
   "cell_type": "code",
   "execution_count": 18,
   "id": "1258de33-93f6-42cf-bab1-08ade7c278c0",
   "metadata": {},
   "outputs": [
    {
     "data": {
      "text/html": [
       "<div>\n",
       "<style scoped>\n",
       "    .dataframe tbody tr th:only-of-type {\n",
       "        vertical-align: middle;\n",
       "    }\n",
       "\n",
       "    .dataframe tbody tr th {\n",
       "        vertical-align: top;\n",
       "    }\n",
       "\n",
       "    .dataframe thead th {\n",
       "        text-align: right;\n",
       "    }\n",
       "</style>\n",
       "<table border=\"1\" class=\"dataframe\">\n",
       "  <thead>\n",
       "    <tr style=\"text-align: right;\">\n",
       "      <th></th>\n",
       "      <th>unit</th>\n",
       "    </tr>\n",
       "  </thead>\n",
       "  <tbody>\n",
       "    <tr>\n",
       "      <th>0</th>\n",
       "      <td>ct</td>\n",
       "    </tr>\n",
       "  </tbody>\n",
       "</table>\n",
       "</div>"
      ],
      "text/plain": [
       "  unit\n",
       "0   ct"
      ]
     },
     "execution_count": 18,
     "metadata": {},
     "output_type": "execute_result"
    }
   ],
   "source": [
    "#Most Common Unit\n",
    "val = fact_table[['unit']].mode()\n",
    "\n",
    "val"
   ]
  },
  {
   "cell_type": "markdown",
   "id": "48033f96-bb41-4f3d-8faf-5ae3186927d9",
   "metadata": {},
   "source": [
    "\r\n",
    "Practice problem 4.5\r\n",
    "\r\n",
    "Find the skewness of the fact table."
   ]
  },
  {
   "cell_type": "code",
   "execution_count": 20,
   "id": "3cb6b25d-fccc-4b72-96e3-8fc3477347fb",
   "metadata": {},
   "outputs": [
    {
     "data": {
      "text/plain": [
       "quantity       11.421689\n",
       "unit_price      1.870001\n",
       "total_price    10.550289\n",
       "dtype: float64"
      ]
     },
     "execution_count": 20,
     "metadata": {},
     "output_type": "execute_result"
    }
   ],
   "source": [
    "#Skeness\n",
    "val = fact_table[['quantity','unit_price', 'total_price']].skew()\n",
    "\n",
    "val"
   ]
  },
  {
   "cell_type": "markdown",
   "id": "f3e5b6ca-3c13-4a6a-a556-d234d04e6a8b",
   "metadata": {},
   "source": [
    "Practice problem 4.6\r\n",
    "\r\n",
    "Find the median value of total price of the fact table."
   ]
  },
  {
   "cell_type": "code",
   "execution_count": 22,
   "id": "10c36e0e-74e6-4858-a41b-76e958514536",
   "metadata": {},
   "outputs": [
    {
     "data": {
      "text/plain": [
       "total_price    240.0\n",
       "dtype: float64"
      ]
     },
     "execution_count": 22,
     "metadata": {},
     "output_type": "execute_result"
    }
   ],
   "source": [
    "# Median\n",
    "val = fact_table[[\"total_price\"]].median()\n",
    "val"
   ]
  },
  {
   "cell_type": "markdown",
   "id": "b14b5d1c-3915-45d1-823a-04eac43dec73",
   "metadata": {},
   "source": [
    "\n",
    "Practice problem 4.7\r\n",
    "\r\n",
    "Compute the sum of quantity, unit price, and total price group by coustomer key in the fact table with index."
   ]
  },
  {
   "cell_type": "code",
   "execution_count": 32,
   "id": "3294a464-6ff7-48d5-8e4f-b5e3e2bbc54d",
   "metadata": {},
   "outputs": [
    {
     "data": {
      "text/html": [
       "<div>\n",
       "<style scoped>\n",
       "    .dataframe tbody tr th:only-of-type {\n",
       "        vertical-align: middle;\n",
       "    }\n",
       "\n",
       "    .dataframe tbody tr th {\n",
       "        vertical-align: top;\n",
       "    }\n",
       "\n",
       "    .dataframe thead th {\n",
       "        text-align: right;\n",
       "    }\n",
       "</style>\n",
       "<table border=\"1\" class=\"dataframe\">\n",
       "  <thead>\n",
       "    <tr style=\"text-align: right;\">\n",
       "      <th></th>\n",
       "      <th>coustomer_key</th>\n",
       "      <th>quantity</th>\n",
       "      <th>unit_price</th>\n",
       "      <th>total_price</th>\n",
       "    </tr>\n",
       "  </thead>\n",
       "  <tbody>\n",
       "    <tr>\n",
       "      <th>0</th>\n",
       "      <td>C000001</td>\n",
       "      <td>80</td>\n",
       "      <td>60.00</td>\n",
       "      <td>1060.0</td>\n",
       "    </tr>\n",
       "    <tr>\n",
       "      <th>1</th>\n",
       "      <td>C000002</td>\n",
       "      <td>20</td>\n",
       "      <td>18.00</td>\n",
       "      <td>360.0</td>\n",
       "    </tr>\n",
       "    <tr>\n",
       "      <th>2</th>\n",
       "      <td>C000003</td>\n",
       "      <td>278</td>\n",
       "      <td>100.50</td>\n",
       "      <td>3728.0</td>\n",
       "    </tr>\n",
       "    <tr>\n",
       "      <th>3</th>\n",
       "      <td>C000004</td>\n",
       "      <td>1219</td>\n",
       "      <td>100.75</td>\n",
       "      <td>19473.5</td>\n",
       "    </tr>\n",
       "    <tr>\n",
       "      <th>4</th>\n",
       "      <td>C000005</td>\n",
       "      <td>215</td>\n",
       "      <td>124.00</td>\n",
       "      <td>4313.0</td>\n",
       "    </tr>\n",
       "    <tr>\n",
       "      <th>...</th>\n",
       "      <td>...</td>\n",
       "      <td>...</td>\n",
       "      <td>...</td>\n",
       "      <td>...</td>\n",
       "    </tr>\n",
       "    <tr>\n",
       "      <th>1979</th>\n",
       "      <td>C001996</td>\n",
       "      <td>72</td>\n",
       "      <td>83.00</td>\n",
       "      <td>2145.0</td>\n",
       "    </tr>\n",
       "    <tr>\n",
       "      <th>1980</th>\n",
       "      <td>C001997</td>\n",
       "      <td>630</td>\n",
       "      <td>46.00</td>\n",
       "      <td>9400.0</td>\n",
       "    </tr>\n",
       "    <tr>\n",
       "      <th>1981</th>\n",
       "      <td>C001998</td>\n",
       "      <td>37</td>\n",
       "      <td>16.00</td>\n",
       "      <td>592.0</td>\n",
       "    </tr>\n",
       "    <tr>\n",
       "      <th>1982</th>\n",
       "      <td>C001999</td>\n",
       "      <td>247</td>\n",
       "      <td>91.00</td>\n",
       "      <td>4710.0</td>\n",
       "    </tr>\n",
       "    <tr>\n",
       "      <th>1983</th>\n",
       "      <td>C002000</td>\n",
       "      <td>98</td>\n",
       "      <td>123.00</td>\n",
       "      <td>2258.0</td>\n",
       "    </tr>\n",
       "  </tbody>\n",
       "</table>\n",
       "<p>1984 rows × 4 columns</p>\n",
       "</div>"
      ],
      "text/plain": [
       "     coustomer_key  quantity  unit_price  total_price\n",
       "0          C000001        80       60.00       1060.0\n",
       "1          C000002        20       18.00        360.0\n",
       "2          C000003       278      100.50       3728.0\n",
       "3          C000004      1219      100.75      19473.5\n",
       "4          C000005       215      124.00       4313.0\n",
       "...            ...       ...         ...          ...\n",
       "1979       C001996        72       83.00       2145.0\n",
       "1980       C001997       630       46.00       9400.0\n",
       "1981       C001998        37       16.00        592.0\n",
       "1982       C001999       247       91.00       4710.0\n",
       "1983       C002000        98      123.00       2258.0\n",
       "\n",
       "[1984 rows x 4 columns]"
      ]
     },
     "execution_count": 32,
     "metadata": {},
     "output_type": "execute_result"
    }
   ],
   "source": [
    "#grou0pBy\n",
    "df = fact_table.groupby('coustomer_key')[['quantity', 'unit_price', 'total_price']].sum().reset_index()\n",
    "df"
   ]
  },
  {
   "cell_type": "markdown",
   "id": "75473dc9-3b35-443f-98c7-cb07d8358b92",
   "metadata": {},
   "source": [
    "\n",
    "Practice problem 4.8\n",
    "\n",
    "Using the fact table find the sum of quantity and mean, min, and max values of the total price group by coustomer key."
   ]
  },
  {
   "cell_type": "code",
   "execution_count": 36,
   "id": "a77f1b67-fe1d-46de-b384-9b5455a208cc",
   "metadata": {},
   "outputs": [
    {
     "name": "stdout",
     "output_type": "stream",
     "text": [
      "     coustomer_key  quantity\n",
      "0          C000001        80\n",
      "1          C000002        20\n",
      "2          C000003       278\n",
      "3          C000004      1219\n",
      "4          C000005       215\n",
      "...            ...       ...\n",
      "1979       C001996        72\n",
      "1980       C001997       630\n",
      "1981       C001998        37\n",
      "1982       C001999       247\n",
      "1983       C002000        98\n",
      "\n",
      "[1984 rows x 2 columns]\n",
      "     coustomer_key  total_price\n",
      "0          C000001        140.0\n",
      "1          C000002        360.0\n",
      "2          C000003         29.0\n",
      "3          C000004         67.5\n",
      "4          C000005        308.0\n",
      "...            ...          ...\n",
      "1979       C001996        126.0\n",
      "1980       C001997         84.0\n",
      "1981       C001998        592.0\n",
      "1982       C001999        168.0\n",
      "1983       C002000         80.0\n",
      "\n",
      "[1984 rows x 2 columns]\n",
      "     coustomer_key  total_price\n",
      "0          C000001        338.0\n",
      "1          C000002        360.0\n",
      "2          C000003       2325.0\n",
      "3          C000004      18592.0\n",
      "4          C000005       2223.0\n",
      "...            ...          ...\n",
      "1979       C001996       1722.0\n",
      "1980       C001997       7336.0\n",
      "1981       C001998        592.0\n",
      "1982       C001999       2745.0\n",
      "1983       C002000       1144.0\n",
      "\n",
      "[1984 rows x 2 columns]\n"
     ]
    }
   ],
   "source": [
    "#Sum of quantity\n",
    "quantity = fact_table.groupby('coustomer_key')[['quantity']].sum().reset_index()\n",
    "#total_price_min\n",
    "total_price_min =  fact_table.groupby('coustomer_key')[['total_price']].min().reset_index()\n",
    "#total_price_max\n",
    "total_price_max =  fact_table.groupby('coustomer_key')[['total_price']].max().reset_index()\n",
    "print(quantity)\n",
    "print(total_price_min)\n",
    "print(total_price_max)\n",
    "\n"
   ]
  },
  {
   "cell_type": "markdown",
   "id": "e16058bb-961d-474a-944e-41860fbfc291",
   "metadata": {},
   "source": [
    "\r\n",
    "Practice problem 4.9\r\n",
    "\r\n",
    "Find the total price and min-max of the unit price from the fact table group by the Upazila."
   ]
  },
  {
   "cell_type": "code",
   "execution_count": 54,
   "id": "627bdbc1-8950-4b94-b0a0-768376963c1a",
   "metadata": {},
   "outputs": [
    {
     "name": "stdout",
     "output_type": "stream",
     "text": [
      "                 total_price\n",
      "upazila                     \n",
      "Agargaon           180588.00\n",
      "Baghaichari        210464.25\n",
      "Balaganj           323197.75\n",
      "Bashundhara R/A    465324.50\n",
      "Bholahat           317127.75\n",
      "Birganj            260203.50\n",
      "Bishwanath         292397.25\n",
      "Boira              196159.50\n",
      "Borhanuddin        218102.00\n",
      "Chadpur            202066.25\n",
      "Dhanmondi          296917.75\n",
      "Farmgate           204008.50\n",
      "Fulbari            297245.25\n",
      "Fulbaria           243455.00\n",
      "Gaffargaon         400247.75\n",
      "Gazipur Sadar      357561.25\n",
      "Gournadi           160594.50\n",
      "Jamalganj          234020.75\n",
      "Jessore            304294.75\n",
      "Kaligonj           259197.50\n",
      "Kathalia           247891.25\n",
      "Kawkhali           290529.50\n",
      "Keranigong         274387.50\n",
      "Kharpara           279935.75\n",
      "Khetlal            258908.75\n",
      "Khilgoan           257669.25\n",
      "Komol Nagar        200745.75\n",
      "Kulaura            166783.50\n",
      "Magura             246563.75\n",
      "Megna              427491.50\n",
      "Mirpur-1           777261.25\n",
      "Mohammadpur        296238.50\n",
      "Nandail            176532.25\n",
      "Narsingdi Sadar    354694.00\n",
      "Rajshahi           286471.75\n",
      "Ramgati            308020.00\n",
      "Savar              244392.50\n",
      "Sayedpur           135960.50\n",
      "Sherpur            274747.75\n",
      "Tahirpur           225339.50\n",
      "Uttara             296594.50\n",
      "                 unit_price\n",
      "upazila                    \n",
      "Agargaon               6.75\n",
      "Baghaichari            6.00\n",
      "Balaganj               6.75\n",
      "Bashundhara R/A        6.00\n",
      "Bholahat               6.00\n",
      "Birganj                6.00\n",
      "Bishwanath             6.75\n",
      "Boira                  6.00\n",
      "Borhanuddin            6.00\n",
      "Chadpur                6.75\n",
      "Dhanmondi              6.00\n",
      "Farmgate               6.75\n",
      "Fulbari                6.00\n",
      "Fulbaria               6.00\n",
      "Gaffargaon             6.00\n",
      "Gazipur Sadar          6.75\n",
      "Gournadi               6.00\n",
      "Jamalganj              6.00\n",
      "Jessore                6.75\n",
      "Kaligonj               6.00\n",
      "Kathalia               6.00\n",
      "Kawkhali               6.00\n",
      "Keranigong             6.00\n",
      "Kharpara               6.00\n",
      "Khetlal                6.00\n",
      "Khilgoan               6.00\n",
      "Komol Nagar            6.00\n",
      "Kulaura                6.00\n",
      "Magura                 6.00\n",
      "Megna                  6.00\n",
      "Mirpur-1               6.00\n",
      "Mohammadpur            6.00\n",
      "Nandail                6.00\n",
      "Narsingdi Sadar        6.00\n",
      "Rajshahi               6.75\n",
      "Ramgati                6.00\n",
      "Savar                  6.00\n",
      "Sayedpur               6.75\n",
      "Sherpur                6.00\n",
      "Tahirpur               6.00\n",
      "Uttara                 6.00\n",
      "                 unit_price\n",
      "upazila                    \n",
      "Agargaon               55.0\n",
      "Baghaichari            55.0\n",
      "Balaganj               53.0\n",
      "Bashundhara R/A        55.0\n",
      "Bholahat               53.0\n",
      "Birganj                55.0\n",
      "Bishwanath             55.0\n",
      "Boira                  48.0\n",
      "Borhanuddin            48.0\n",
      "Chadpur                55.0\n",
      "Dhanmondi              48.0\n",
      "Farmgate               53.0\n",
      "Fulbari                53.0\n",
      "Fulbaria               55.0\n",
      "Gaffargaon             55.0\n",
      "Gazipur Sadar          53.0\n",
      "Gournadi               53.0\n",
      "Jamalganj              55.0\n",
      "Jessore                55.0\n",
      "Kaligonj               55.0\n",
      "Kathalia               55.0\n",
      "Kawkhali               53.0\n",
      "Keranigong             53.0\n",
      "Kharpara               53.0\n",
      "Khetlal                53.0\n",
      "Khilgoan               55.0\n",
      "Komol Nagar            55.0\n",
      "Kulaura                55.0\n",
      "Magura                 55.0\n",
      "Megna                  53.0\n",
      "Mirpur-1               55.0\n",
      "Mohammadpur            45.0\n",
      "Nandail                55.0\n",
      "Narsingdi Sadar        55.0\n",
      "Rajshahi               55.0\n",
      "Ramgati                53.0\n",
      "Savar                  55.0\n",
      "Sayedpur               55.0\n",
      "Sherpur                55.0\n",
      "Tahirpur               55.0\n",
      "Uttara                 48.0\n"
     ]
    }
   ],
   "source": [
    "df=pd.merge(fact_table,store_dim, on='store_key')\n",
    "\n",
    "#total Price group by upazila\n",
    "total_price = df.groupby('upazila')[['total_price']].sum()\n",
    "\n",
    "# min of the unit price\n",
    "min = df.groupby('upazila')[['unit_price']].min()\n",
    "\n",
    "# max of the unit price\n",
    "max = df.groupby('upazila')[['unit_price']].max()\n",
    "\n",
    "\n",
    "  \n",
    "print(total_price)\n",
    "print(min)\n",
    "print(max)\n"
   ]
  },
  {
   "cell_type": "markdown",
   "id": "61450e4d-0ac0-476f-a305-21b415435909",
   "metadata": {},
   "source": [
    "Practice problem 4.10\r\n",
    "\r\n",
    "Find the correlation between the quantity and the total price of the fact table."
   ]
  },
  {
   "cell_type": "code",
   "execution_count": 55,
   "id": "0922ae51-eeb4-4e92-b336-518421683271",
   "metadata": {},
   "outputs": [
    {
     "data": {
      "text/plain": [
       "0.9779865332515268"
      ]
     },
     "execution_count": 55,
     "metadata": {},
     "output_type": "execute_result"
    }
   ],
   "source": [
    "#Finding Correlation \n",
    "corr=fact_table['quantity'].corr(fact_table['total_price'])\n",
    "\n",
    "corr"
   ]
  },
  {
   "cell_type": "markdown",
   "id": "b902eb83-bfb4-4abd-b95a-a46af131e23f",
   "metadata": {},
   "source": [
    "Practice problem 4.11\r\n",
    "\r\n",
    "Find the correlation between the total price and the quantity of the fact table and describe the correlation."
   ]
  },
  {
   "cell_type": "code",
   "execution_count": 9,
   "id": "44aae82a-5231-400e-b757-6de3994bafda",
   "metadata": {},
   "outputs": [
    {
     "name": "stdout",
     "output_type": "stream",
     "text": [
      "0.977986533251527\n",
      "We get 0.977986533251527 as the correlation between the scores of unit_price and quantity. This indicates that the two columns highly correlated in a positive direction.\n"
     ]
    }
   ],
   "source": [
    "#Finding Correlation \n",
    "corr=fact_table['total_price'].corr(fact_table['quantity'])\n",
    "\n",
    "\n",
    "\n",
    "print(corr)\n",
    "print(\"We get \"+ str(corr) + \" as the correlation between the scores of unit_price and quantity. This indicates that the two columns highly correlated in a positive direction.\")"
   ]
  },
  {
   "cell_type": "markdown",
   "id": "de27b281-f71a-4436-b926-e4afa27ef700",
   "metadata": {},
   "source": [
    "\r\n",
    "Practice problem 4.12\r\n",
    "\r\n",
    "Find the correlation between all the columns of the fact table and describe the correlation."
   ]
  },
  {
   "cell_type": "code",
   "execution_count": 8,
   "id": "0924a780-8b79-448e-89e2-bf0deb4b26ea",
   "metadata": {},
   "outputs": [
    {
     "name": "stdout",
     "output_type": "stream",
     "text": [
      "             quantity  unit_price  total_price\n",
      "quantity     1.000000    0.015193     0.977987\n",
      "unit_price   0.015193    1.000000     0.096378\n",
      "total_price  0.977987    0.096378     1.000000\n",
      "We get              quantity  unit_price  total_price\n",
      "quantity     1.000000    0.015193     0.977987\n",
      "unit_price   0.015193    1.000000     0.096378\n",
      "total_price  0.977987    0.096378     1.000000 as the correlation between the scores of unit_price and quantity. This indicates that the two columns highly correlated in a positive direction.\n"
     ]
    }
   ],
   "source": [
    "\n",
    "numeric_columns = ['quantity', 'unit_price', 'total_price']\n",
    "corr = fact_table[numeric_columns].corr()\n",
    "\n",
    "print(corr)\n",
    "print(\"We get \"+ str(corr) + \" as the correlation between the scores of unit_price and quantity. This indicates that the two columns highly correlated in a positive direction.\")"
   ]
  },
  {
   "cell_type": "code",
   "execution_count": null,
   "id": "2f244ba2-3f3f-4aa1-aea7-9c27deb2521c",
   "metadata": {},
   "outputs": [],
   "source": []
  },
  {
   "cell_type": "code",
   "execution_count": null,
   "id": "69f31d5e-35c0-4c37-a74c-53edccbb8cef",
   "metadata": {},
   "outputs": [],
   "source": []
  }
 ],
 "metadata": {
  "kernelspec": {
   "display_name": "Python 3 (ipykernel)",
   "language": "python",
   "name": "python3"
  },
  "language_info": {
   "codemirror_mode": {
    "name": "ipython",
    "version": 3
   },
   "file_extension": ".py",
   "mimetype": "text/x-python",
   "name": "python",
   "nbconvert_exporter": "python",
   "pygments_lexer": "ipython3",
   "version": "3.11.3"
  }
 },
 "nbformat": 4,
 "nbformat_minor": 5
}
