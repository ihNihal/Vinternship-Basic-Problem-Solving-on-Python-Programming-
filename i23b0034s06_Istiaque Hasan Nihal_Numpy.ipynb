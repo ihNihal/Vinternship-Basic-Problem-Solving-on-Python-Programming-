{
 "cells": [
  {
   "cell_type": "markdown",
   "id": "16626e47-8051-4ec4-ba6f-8f3997889173",
   "metadata": {},
   "source": [
    "#### Numpy Practice Problem\n",
    "#### Name: Istiaque Hasan Nihal\n",
    "#### ID:i23b0034s06"
   ]
  },
  {
   "cell_type": "markdown",
   "id": "7a81d575-f4a0-4ed0-a35d-192fd100ca0d",
   "metadata": {},
   "source": [
    "Problem 1: Add one more element in a and b, and perform element-wise sum"
   ]
  },
  {
   "cell_type": "code",
   "execution_count": 2,
   "id": "d623ed51-1884-4faa-81e1-304fcc6b3e1d",
   "metadata": {},
   "outputs": [],
   "source": [
    "import numpy as np"
   ]
  },
  {
   "cell_type": "code",
   "execution_count": 3,
   "id": "2e6cc459-eeed-4544-9726-25d8bab42c1d",
   "metadata": {},
   "outputs": [
    {
     "name": "stdout",
     "output_type": "stream",
     "text": [
      "[[11 13 15 19]\n",
      " [17 19 21 23]]\n"
     ]
    }
   ],
   "source": [
    "a = np.array([[1,2,3,5],\n",
    "\n",
    "              [4,5,6,7]])\n",
    "\n",
    " \n",
    "b = np.array([[10,11,12,14],\n",
    "\n",
    "              [13,14,15,16]])\n",
    "c=a+b\n",
    "print(c)"
   ]
  },
  {
   "cell_type": "markdown",
   "id": "9effac9e-2aa6-4671-b072-2486156bc2e0",
   "metadata": {},
   "source": [
    "Problem 2: Define 3X2 matrix and multiply by 5"
   ]
  },
  {
   "cell_type": "code",
   "execution_count": 5,
   "id": "cc37a151-c5c1-4ba6-8983-08e67ec3a602",
   "metadata": {},
   "outputs": [
    {
     "name": "stdout",
     "output_type": "stream",
     "text": [
      "[[15 10]\n",
      " [20 25]\n",
      " [25 30]]\n"
     ]
    }
   ],
   "source": [
    "m = np.array([[3,2],\n",
    "             [4,5],\n",
    "             [5,6]])\n",
    "n = m*5\n",
    "print(n)"
   ]
  },
  {
   "cell_type": "markdown",
   "id": "46572d40-8529-4d13-a3e0-93694bf0ae6e",
   "metadata": {},
   "source": [
    "Problem 3: Create an identity matrix 10X10 with diagonal elements 5"
   ]
  },
  {
   "cell_type": "code",
   "execution_count": 9,
   "id": "9749a6b6-1cb2-47af-a52f-5854583ce183",
   "metadata": {},
   "outputs": [
    {
     "name": "stdout",
     "output_type": "stream",
     "text": [
      "[[5. 0. 0. 0. 0. 0. 0. 0. 0. 0.]\n",
      " [0. 5. 0. 0. 0. 0. 0. 0. 0. 0.]\n",
      " [0. 0. 5. 0. 0. 0. 0. 0. 0. 0.]\n",
      " [0. 0. 0. 5. 0. 0. 0. 0. 0. 0.]\n",
      " [0. 0. 0. 0. 5. 0. 0. 0. 0. 0.]\n",
      " [0. 0. 0. 0. 0. 5. 0. 0. 0. 0.]\n",
      " [0. 0. 0. 0. 0. 0. 5. 0. 0. 0.]\n",
      " [0. 0. 0. 0. 0. 0. 0. 5. 0. 0.]\n",
      " [0. 0. 0. 0. 0. 0. 0. 0. 5. 0.]\n",
      " [0. 0. 0. 0. 0. 0. 0. 0. 0. 5.]]\n"
     ]
    }
   ],
   "source": [
    "i = np.eye(10)\n",
    "\n",
    "# fill diagonal with 6\n",
    "np.fill_diagonal(i, 5)\n",
    "\n",
    "print(i)"
   ]
  },
  {
   "cell_type": "markdown",
   "id": "c6a1f09d-5410-47e3-90d9-8486da1a1f1e",
   "metadata": {},
   "source": [
    "Problem 4: Create a 1-Dimensional array with 20 elements starting from  100 with an increment 5. Convert the array to a 3-Dimensional array 3da and display.\r\n",
    "\r\n",
    " "
   ]
  },
  {
   "cell_type": "code",
   "execution_count": 16,
   "id": "69787691-a660-4919-8267-402f6ef00ca6",
   "metadata": {},
   "outputs": [
    {
     "name": "stdout",
     "output_type": "stream",
     "text": [
      "[[[100 105 110 115 120]\n",
      "  [125 130 135 140 145]]\n",
      "\n",
      " [[150 155 160 165 170]\n",
      "  [175 180 185 190 195]]]\n"
     ]
    }
   ],
   "source": [
    "#Creating 1D array with 20 elements starting from 100 with an increment 5\n",
    "list_numbers = np.arange(100, 200, 5)\n",
    "\n",
    "# reshaping to 3-dimensional array\n",
    "o = list_numbers.reshape(2,2,5)\n",
    "print(o)\n",
    "\n"
   ]
  },
  {
   "cell_type": "markdown",
   "id": "7b709dce-987e-41d8-b188-0dd78762fc0c",
   "metadata": {},
   "source": [
    "Problem 5: Define a and b as 2-D arrays with 4 elements and merge the arrays horizontally as m and display."
   ]
  },
  {
   "cell_type": "code",
   "execution_count": 15,
   "id": "a3129d39-22ab-49fa-8a91-25663dcbf2ad",
   "metadata": {},
   "outputs": [
    {
     "name": "stdout",
     "output_type": "stream",
     "text": [
      "[[ 2  3  4  6 10 13 24 36]\n",
      " [ 5  6  7  8 54 65 37 28]]\n"
     ]
    }
   ],
   "source": [
    "# Defining 2D array with 4 elements\n",
    "a = np.array([[2,3,4,6],\n",
    "              [5,6,7,8]])\n",
    "b = np.array([[10,13,24,36],\n",
    "              [54,65,37,28]])\n",
    "\n",
    "# Merging Horizontally \n",
    "m = np.hstack((a,b))\n",
    "print(m)"
   ]
  },
  {
   "cell_type": "markdown",
   "id": "c4d722ca-0b30-49f7-87fa-7c67a0c61d9d",
   "metadata": {},
   "source": [
    "Problem 6: Define a and b as 2-D arrays with 4 elements and merge the arrays vertically as mv and display."
   ]
  },
  {
   "cell_type": "code",
   "execution_count": 17,
   "id": "4de21c5b-e04d-494e-b0b5-1f269f0a3162",
   "metadata": {},
   "outputs": [
    {
     "name": "stdout",
     "output_type": "stream",
     "text": [
      "[[ 2  3  4  6]\n",
      " [ 5  6  7  8]\n",
      " [10 13 24 36]\n",
      " [54 65 37 28]]\n"
     ]
    }
   ],
   "source": [
    "# Defining 2D array with 4 elements\n",
    "a = np.array([[2,3,4,6],\n",
    "              [5,6,7,8]])\n",
    "b = np.array([[10,13,24,36],\n",
    "              [54,65,37,28]])\n",
    "\n",
    "# Merging Vertically \n",
    "mv = np.vstack((a,b))\n",
    "print(mv)"
   ]
  },
  {
   "cell_type": "code",
   "execution_count": null,
   "id": "6483172b-137c-4360-9c56-a4b77d243ec3",
   "metadata": {},
   "outputs": [],
   "source": []
  }
 ],
 "metadata": {
  "kernelspec": {
   "display_name": "Python 3 (ipykernel)",
   "language": "python",
   "name": "python3"
  },
  "language_info": {
   "codemirror_mode": {
    "name": "ipython",
    "version": 3
   },
   "file_extension": ".py",
   "mimetype": "text/x-python",
   "name": "python",
   "nbconvert_exporter": "python",
   "pygments_lexer": "ipython3",
   "version": "3.11.3"
  }
 },
 "nbformat": 4,
 "nbformat_minor": 5
}
