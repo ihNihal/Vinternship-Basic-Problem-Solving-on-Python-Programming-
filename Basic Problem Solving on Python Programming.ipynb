{
 "cells": [
  {
   "cell_type": "markdown",
   "id": "9c191067-95cf-401e-bc73-c53a18912b4b",
   "metadata": {},
   "source": [
    "#### NAME: Istiaque Hasan Nihal\n",
    "####  Intern ID - i23b0034s06\n",
    "#### Applicant ID - a23b0034s014\n",
    "#### Email - istiaquehasannihal@gmail.com"
   ]
  },
  {
   "cell_type": "markdown",
   "id": "bbc89e8b-bc22-442f-9b47-d412fef934d3",
   "metadata": {},
   "source": [
    "#### Practice Problem 1.1\r",
    "#### \n",
    "Create 3 variables randomly: an integer, a float, and a string. Then print all, and replace the all variable into a string and print it."
   ]
  },
  {
   "cell_type": "code",
   "execution_count": 1,
   "id": "b5b1938d-c87b-44ef-8eb2-487776ab0984",
   "metadata": {},
   "outputs": [],
   "source": [
    "a= 3\n",
    "b= 300.0\n",
    "c= \"Code written by Nihal\" "
   ]
  },
  {
   "cell_type": "code",
   "execution_count": 3,
   "id": "83aa0bf5-106e-4d77-90b6-abbce4512323",
   "metadata": {},
   "outputs": [
    {
     "name": "stdout",
     "output_type": "stream",
     "text": [
      "3\n",
      "300.0\n",
      "Code written by Nihal\n"
     ]
    }
   ],
   "source": [
    "print(a)\n",
    "print(b)\n",
    "print(c)"
   ]
  },
  {
   "cell_type": "code",
   "execution_count": 4,
   "id": "3b68c2e4-1baa-41f2-a093-6d36828c5469",
   "metadata": {},
   "outputs": [
    {
     "name": "stdout",
     "output_type": "stream",
     "text": [
      "All variables Replaced\n"
     ]
    }
   ],
   "source": [
    "a=b=c= \"All variables Replaced\"\n",
    "print(a)"
   ]
  },
  {
   "cell_type": "markdown",
   "id": "05200aae-80e7-454d-852a-641f34c6e55d",
   "metadata": {},
   "source": [
    "#### Practice Problem 1.2\n",
    "#### There is a list like 10, 0, 55, 88, 100, -56, 80. Find the largest number of this list.\n",
    "\n",
    "#### N.B: Implement it without the help of the max() function."
   ]
  },
  {
   "cell_type": "code",
   "execution_count": 5,
   "id": "93a75094-a916-44bf-8adc-3f4b986946c9",
   "metadata": {},
   "outputs": [],
   "source": [
    "list = [10,0,55,88,100,-56, 80]"
   ]
  },
  {
   "cell_type": "code",
   "execution_count": 7,
   "id": "2f275561-3e80-4258-899d-6eccbdb52c08",
   "metadata": {},
   "outputs": [
    {
     "name": "stdout",
     "output_type": "stream",
     "text": [
      "The largest number in the list is:  100\n"
     ]
    }
   ],
   "source": [
    "largest = list[0]\n",
    "for i in list:\n",
    "    if i > largest:\n",
    "        largest = i\n",
    "print(\"The largest number in the list is: \", largest)        "
   ]
  },
  {
   "cell_type": "markdown",
   "id": "c2ba0dc9-f8a6-43c2-9b34-bb7469b36d3e",
   "metadata": {},
   "source": [
    "#### Practice Problem 1.3\r",
    "#### \n",
    "Rima and Lima both are two friends. They are talking with each other. Rima says, “Your daughter is very pretty”. Remove the duplicate characters that Rima has said."
   ]
  },
  {
   "cell_type": "code",
   "execution_count": 38,
   "id": "90609354-8a39-4918-9c7c-21d0afbf6104",
   "metadata": {},
   "outputs": [
    {
     "name": "stdout",
     "output_type": "stream",
     "text": [
      "eudsiavyoY hprtg\n"
     ]
    }
   ],
   "source": [
    "rima_statement = \"Your daughter is very pretty\"\n",
    "rima_statement_no_duplicates = ''.join(set(rima_statement))\n",
    "\n",
    "print(rima_statement_no_duplicates)\n"
   ]
  },
  {
   "cell_type": "markdown",
   "id": "c9c856e2-d3fd-46b1-b743-4f16e8904503",
   "metadata": {},
   "source": [
    "#### Practice problem 1.4\n",
    "#### Write a Python program to count the number of strings where the string length is 2 or more and the first and last character are the same from a given list of strings. \n",
    "\n",
    "#### Sample List : ['abc', 'xyz', 'aba', '1221']\n",
    "\n",
    "#### Expected Result : 2"
   ]
  },
  {
   "cell_type": "code",
   "execution_count": 22,
   "id": "05bce61a-ed9e-4353-8200-75f0d04fb9fc",
   "metadata": {
    "scrolled": true
   },
   "outputs": [
    {
     "name": "stdout",
     "output_type": "stream",
     "text": [
      "Result:  2\n"
     ]
    }
   ],
   "source": [
    "def count_strings(strings):\n",
    "    count = 0 \n",
    "    for string in strings:\n",
    "        if len(string) >= 2 and string[0] == string[-1]:\n",
    "            count += 1\n",
    "    return count\n",
    "list= ['abc', 'xyz', 'aba', '1221']    \n",
    "print(\"Result: \", count_strings(list))        "
   ]
  },
  {
   "cell_type": "markdown",
   "id": "830a4c46-ece4-49ab-af87-abbd0a09ce8f",
   "metadata": {},
   "source": [
    "#### Practice Problem 1.5\n",
    "#### Write a Python function that accepts a string and calculates the number of uppercase letters and lowercase letters. \n",
    "\n",
    "Sample Input :\n",
    "\n",
    "Bangladesh has played 396 ODI matches resulting in 142 victories\n",
    "\n",
    "Output :\n",
    "\n",
    "No. of Upper case characters :  4\n",
    "\n",
    "No. of Lower case Characters :  45"
   ]
  },
  {
   "cell_type": "code",
   "execution_count": 25,
   "id": "3ef2ca02-102c-454e-b128-4bdfa5e19150",
   "metadata": {},
   "outputs": [
    {
     "name": "stdout",
     "output_type": "stream",
     "text": [
      "No. of Upper case characters:  4\n",
      "No. of lower case characters:  45\n"
     ]
    }
   ],
   "source": [
    "def upper_lower(strings):\n",
    "    upper = 0\n",
    "    lower = 0\n",
    "    for char in strings:\n",
    "        if char.isupper():\n",
    "            upper += 1\n",
    "        elif char.islower():\n",
    "            lower += 1 \n",
    "    return upper , lower\n",
    "strings = \"Bangladesh has played 396 ODI matches resulting in 142 victories\"\n",
    "\n",
    "upper , lower = upper_lower(strings)\n",
    "\n",
    "print(\"No. of Upper case characters: \", upper)\n",
    "print(\"No. of lower case characters: \", lower)\n",
    "    \n",
    "\n",
    "\n",
    "        "
   ]
  },
  {
   "cell_type": "markdown",
   "id": "644d2dc1-9591-422e-8d91-29ebc4e1e733",
   "metadata": {},
   "source": [
    "#### Practice Problem 1.6\r",
    "#### \n",
    "Write a Python program that accepts a comma-separated sequence of words as input and prints the unique words in sorted form (alphanumerically).\r\n",
    "\r\n",
    "Sample Words: red, white, black, red, green, black\r\n",
    "\r\n",
    "Expected Result: black, green, red, white,red"
   ]
  },
  {
   "cell_type": "code",
   "execution_count": 29,
   "id": "6837e364-cd30-4d6e-a06c-bd7e5a219569",
   "metadata": {},
   "outputs": [
    {
     "name": "stdout",
     "output_type": "stream",
     "text": [
      "Unique words in sorted form: black, green, red, white\n"
     ]
    }
   ],
   "source": [
    "def unique_sorted_words(input_string):\n",
    "    words = input_string.split(', ')\n",
    "    unique_words = sorted(set(words))\n",
    "    return ', '.join(unique_words)\n",
    "\n",
    "sample_input = \"red, white, black, red, green, black\"\n",
    "result = unique_sorted_words(sample_input)\n",
    "\n",
    "print(\"Unique words in sorted form:\", result)\n"
   ]
  },
  {
   "cell_type": "markdown",
   "id": "2a85feb1-fd40-469b-9992-f69c50bc34dc",
   "metadata": {},
   "source": [
    "#### Practice Problem 1.7\n",
    "#### Write a Python program to count repeated characters in a string.\n",
    "\n",
    "Sample string: \n",
    "\n",
    "thequickbrownfoxjumpsoverthelazydog\n",
    "\n",
    "Expected output :\n",
    "\n",
    "o 4\n",
    "\n",
    "e 3\n",
    "\n",
    "u 2\n",
    "\n",
    "h 2\n",
    "\n",
    "r 2\n",
    "\n",
    "t 2"
   ]
  },
  {
   "cell_type": "code",
   "execution_count": 30,
   "id": "69b59216-3e60-4230-a44f-9f39224ecc9f",
   "metadata": {},
   "outputs": [
    {
     "name": "stdout",
     "output_type": "stream",
     "text": [
      "t 2\n",
      "h 2\n",
      "e 3\n",
      "u 2\n",
      "r 2\n",
      "o 4\n"
     ]
    }
   ],
   "source": [
    "def count_repeated_characters(input_string):\n",
    "    char_count = {}\n",
    "\n",
    "    for char in input_string:\n",
    "        if char in char_count:\n",
    "            char_count[char] += 1\n",
    "        else:\n",
    "            char_count[char] = 1\n",
    "\n",
    "    for char, count in char_count.items():\n",
    "        if count > 1:\n",
    "            print(char, count)\n",
    "\n",
    "sample_string = \"thequickbrownfoxjumpsoverthelazydog\"\n",
    "count_repeated_characters(sample_string)\n"
   ]
  },
  {
   "cell_type": "markdown",
   "id": "a8ee6292-6fde-4e5b-8870-db207272be40",
   "metadata": {},
   "source": [
    "#### Practice Problem 1.8\n",
    "#### Write a Python program to extract characters from various text files and puts them into a list.\n",
    "\n",
    "Sample Input:\n",
    "words1.txt\n",
    "\n",
    "Welcome to the Python Wiki, a user-editable compendium of knowledge\n",
    "\n",
    "based around the Python programming language. Some pages are protected\n",
    "\n",
    "against casual editing - see WikiEditingGuidelines for more information\n",
    "\n",
    "about editing content.\n",
    "\n",
    " \n",
    "\n",
    "words2.txt\n",
    "\n",
    "Python is a great object-oriented, interpreted, and interactive\n",
    "\n",
    "programming language. It is often compared (favorably of course :-) )\n",
    "\n",
    "to Lisp, Tcl, Perl, Ruby, C#, Visual Basic, Visual Fox Pro, Scheme or Java...\n",
    "\n",
    "and it's much more fun.\n",
    "\n",
    " \n",
    "\n",
    "Sample Output:\n",
    "\n",
    "[\"Python is a great object-oriented, interpreted, and interactive\\nprogramming language. It is often compared (favorably of course :-) )\\nto Lisp, Tcl, Perl, Ruby, C#, Visual Basic, Visual Fox Pro, Scheme or Java...\\nand it's much more fun.\", 'Welcome to the Python Wiki, a user-editable compendium of knowledge\\nbased around the Python programming language. Some pages are protected\\nagainst casual editing - see WikiEditingGuidelines for more information\\nabout editing content.\\n']"
   ]
  },
  {
   "cell_type": "code",
   "execution_count": 35,
   "id": "d7edd272-96b2-47ae-90a3-7f77f8711a09",
   "metadata": {},
   "outputs": [
    {
     "name": "stdout",
     "output_type": "stream",
     "text": [
      "['Welcome to the Python Wiki, a user-editable compendium of knowledge\\n\\nbased around the Python programming language. Some pages are protected\\n\\nagainst casual editing - see WikiEditingGuidelines for more information\\n\\nabout editing content.', \"Python is a great object-oriented, interpreted, and interactive\\n\\nprogramming language. It is often compared (favorably of course :-) )\\n\\nto Lisp, Tcl, Perl, Ruby, C#, Visual Basic, Visual Fox Pro, Scheme or Java...\\n\\nand it's much more fun.\"]\n"
     ]
    }
   ],
   "source": [
    "def extract_text(file):\n",
    "    extracted_text = []\n",
    "    for file in file_paths:\n",
    "        with open(file, 'r') as file:\n",
    "            text = file.read()\n",
    "            extracted_text.append(text)\n",
    "    return extracted_text\n",
    "\n",
    "file = ['words1.txt', 'words2.txt']\n",
    "output = extract_text(file)\n",
    "\n",
    "print(output)\n"
   ]
  },
  {
   "cell_type": "code",
   "execution_count": null,
   "id": "4874aef3-d19e-4237-be86-ecf1f1aac16e",
   "metadata": {},
   "outputs": [],
   "source": []
  }
 ],
 "metadata": {
  "kernelspec": {
   "display_name": "Python 3 (ipykernel)",
   "language": "python",
   "name": "python3"
  },
  "language_info": {
   "codemirror_mode": {
    "name": "ipython",
    "version": 3
   },
   "file_extension": ".py",
   "mimetype": "text/x-python",
   "name": "python",
   "nbconvert_exporter": "python",
   "pygments_lexer": "ipython3",
   "version": "3.11.3"
  }
 },
 "nbformat": 4,
 "nbformat_minor": 5
}
